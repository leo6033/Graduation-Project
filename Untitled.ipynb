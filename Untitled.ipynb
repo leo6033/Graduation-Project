{
 "cells": [
  {
   "cell_type": "code",
   "execution_count": 1,
   "metadata": {
    "ExecuteTime": {
     "end_time": "2021-04-06T11:47:45.496494Z",
     "start_time": "2021-04-06T11:47:45.473319Z"
    }
   },
   "outputs": [],
   "source": [
    "import random\n",
    "import math\n",
    "import numpy as np\n",
    "import pandas as pd\n",
    "import json\n",
    "import tensorflow as tf\n",
    "import tensorboard\n",
    "from tensorflow import keras\n",
    "from tensorflow.keras import Sequential, layers, optimizers, losses\n",
    "from config import Config\n",
    "import re"
   ]
  },
  {
   "cell_type": "code",
   "execution_count": 2,
   "metadata": {
    "ExecuteTime": {
     "end_time": "2021-04-06T11:57:14.052169Z",
     "start_time": "2021-04-06T11:56:59.814550Z"
    }
   },
   "outputs": [
    {
     "output_type": "stream",
     "name": "stderr",
     "text": [
      "C:\\Users\\long4\\anaconda3\\envs\\ai\\lib\\site-packages\\ipykernel_launcher.py:7: ParserWarning: Falling back to the 'python' engine because the 'c' engine does not support regex separators (separators > 1 char and different from '\\s+' are interpreted as regex); you can avoid this warning by specifying engine='python'.\n  import sys\n"
     ]
    }
   ],
   "source": [
    "path = 'data/ml-1m/'\n",
    "movies_col = ['MovieID', 'Title', 'Genres']\n",
    "users_col = ['UserID', 'Gender', 'Age', 'Occupation', 'Zip-code']\n",
    "ratings_col = ['UserID', 'MovieID', 'Rating', 'Timestamp']\n",
    "# movies = pd.read_csv(f'{path}movies.dat', sep=\"::\", names=movies_col)\n",
    "# users = pd.read_csv(f'{path}users.dat', sep=\"::\", names=users_col)\n",
    "ratings = pd.read_csv(f'{path}ratings.dat', sep=\"::\", names=ratings_col)"
   ]
  },
  {
   "cell_type": "code",
   "execution_count": 3,
   "metadata": {},
   "outputs": [
    {
     "output_type": "stream",
     "name": "stderr",
     "text": [
      "C:\\Users\\long4\\anaconda3\\envs\\ai\\lib\\site-packages\\gensim\\similarities\\__init__.py:15: UserWarning: The gensim.similarities.levenshtein submodule is disabled, because the optional Levenshtein package <https://pypi.org/project/python-Levenshtein/> is unavailable. Install Levenhstein (e.g. `pip install python-Levenshtein`) to suppress this warning.\n  warnings.warn(msg)\n"
     ]
    }
   ],
   "source": [
    "import pickle\n",
    "i2v = pickle.load(open('data/MovieID.128d', 'rb'))"
   ]
  },
  {
   "cell_type": "code",
   "execution_count": 14,
   "metadata": {},
   "outputs": [
    {
     "output_type": "stream",
     "name": "stderr",
     "text": [
      "C:\\Users\\long4\\anaconda3\\envs\\ai\\lib\\site-packages\\ipykernel_launcher.py:2: SettingWithCopyWarning: \nA value is trying to be set on a copy of a slice from a DataFrame.\nTry using .loc[row_indexer,col_indexer] = value instead\n\nSee the caveats in the documentation: https://pandas.pydata.org/pandas-docs/stable/user_guide/indexing.html#returning-a-view-versus-a-copy\n  \n"
     ]
    }
   ],
   "source": [
    "tmp = ratings.head()\n",
    "tmp['MovieID'] = tmp['MovieID'].apply(lambda x: i2v.wv[str(x)])"
   ]
  },
  {
   "cell_type": "code",
   "execution_count": 24,
   "metadata": {},
   "outputs": [
    {
     "output_type": "execute_result",
     "data": {
      "text/plain": [
       "<tf.Tensor: shape=(1, 5, 128), dtype=float32, numpy=\n",
       "array([[[ 2.51069605e-01, -1.38505355e-01, -2.12922141e-01,\n",
       "          1.13701098e-01,  3.15788835e-01, -8.09613526e-01,\n",
       "          1.65641800e-01, -4.19431590e-02,  1.83252618e-01,\n",
       "          5.19184768e-01,  2.09479883e-01, -7.13460982e-01,\n",
       "         -3.28960240e-01, -1.08065896e-01,  2.33413666e-01,\n",
       "          3.27398628e-01,  6.82008639e-02, -1.10718258e-01,\n",
       "         -2.51489520e-01, -8.22392404e-02, -1.79900810e-01,\n",
       "          3.34867556e-03, -4.06885535e-01, -2.89812982e-01,\n",
       "         -3.68954502e-02,  1.98646694e-01, -1.89264596e-01,\n",
       "          6.43139958e-01,  4.57586110e-01,  2.33059987e-01,\n",
       "         -3.54275674e-01,  4.95472103e-02,  2.52268128e-02,\n",
       "          6.91032827e-01,  1.42761916e-01,  4.76872139e-02,\n",
       "          5.78030229e-01,  2.94952929e-01,  6.05633378e-01,\n",
       "          2.02968910e-01, -2.49527216e-01,  1.51838496e-01,\n",
       "          8.15653577e-02,  3.26646529e-02, -3.73255685e-02,\n",
       "         -1.97766274e-01, -2.45511115e-01, -9.44290161e-01,\n",
       "          8.87200832e-02,  7.06805959e-02,  9.09808930e-03,\n",
       "          5.26226014e-02, -1.53557450e-01,  1.14156879e-01,\n",
       "         -4.74960119e-01, -2.20158491e-02,  3.17013443e-01,\n",
       "         -3.05488914e-01,  3.19711030e-01,  9.44306329e-03,\n",
       "         -1.42414898e-01,  4.03458714e-01,  3.92741188e-02,\n",
       "         -1.68049373e-02,  1.97584510e-01, -7.44989738e-02,\n",
       "          1.66508526e-01, -2.25262418e-01, -1.78094566e-01,\n",
       "         -1.91244051e-01, -4.99285087e-02, -1.19172342e-01,\n",
       "          3.32659513e-01, -4.47134644e-01, -4.15429994e-02,\n",
       "         -4.27532524e-01,  1.55517220e-01, -1.58694044e-01,\n",
       "         -2.96497345e-01,  3.76689315e-01, -5.28582931e-01,\n",
       "         -2.47829080e-01,  3.75956357e-01, -3.79425764e-01,\n",
       "          3.86557281e-01,  2.92638779e-01,  1.23722188e-01,\n",
       "         -2.04913467e-01, -3.00936282e-01,  1.89339697e-01,\n",
       "          4.53529954e-01, -1.55369207e-01,  3.20951231e-02,\n",
       "          1.86686486e-01,  1.98807210e-01, -1.57962382e-01,\n",
       "          2.62760185e-02, -9.12977308e-02, -2.68385023e-01,\n",
       "          3.46340358e-01, -5.36761999e-01,  3.41906883e-02,\n",
       "         -4.22335774e-01,  4.55231994e-01,  3.08298469e-01,\n",
       "          2.36048833e-01, -5.76096475e-01,  2.60820091e-01,\n",
       "         -5.76902814e-02,  5.96961984e-03,  7.96002895e-02,\n",
       "         -2.27136344e-01, -1.47348791e-01, -2.59846896e-02,\n",
       "          5.84603241e-03, -2.61711866e-01,  7.74399042e-02,\n",
       "          1.81756899e-01, -2.59002578e-02,  1.39960617e-01,\n",
       "          3.47530365e-01,  5.52058041e-01, -2.83961296e-01,\n",
       "         -1.72123592e-02, -5.03190279e-01,  3.23472321e-01,\n",
       "          2.30424821e-01,  1.85803279e-01],\n",
       "        [-8.88495147e-02, -2.11043239e-01,  1.91228330e-01,\n",
       "         -2.99103945e-01,  5.13032496e-01, -2.95935184e-01,\n",
       "          3.08911875e-02, -9.60478261e-02, -2.04283372e-01,\n",
       "          1.86964437e-01, -1.68545336e-01, -7.70206749e-01,\n",
       "         -1.20385677e-01, -9.68060791e-02,  1.95513383e-01,\n",
       "          1.25993639e-01, -1.92808181e-01,  1.12119980e-01,\n",
       "         -5.84579706e-01, -7.21757784e-02,  1.43123478e-01,\n",
       "         -2.01777834e-02,  5.97014800e-02, -5.61741650e-01,\n",
       "         -1.40928715e-01,  2.69379199e-01,  3.17242667e-02,\n",
       "          6.92443669e-01,  8.42683315e-01,  4.17713135e-01,\n",
       "          1.28859416e-01,  2.58801460e-01,  1.81604251e-01,\n",
       "          2.88945287e-01, -3.58048141e-01,  1.05026238e-01,\n",
       "          4.00635421e-01,  1.87145829e-01,  6.94191575e-01,\n",
       "         -3.58473122e-01,  1.37130573e-01, -1.39680147e-01,\n",
       "         -5.81635356e-01,  2.11126700e-01,  3.00459489e-02,\n",
       "         -2.23829299e-01, -3.68122190e-01, -5.12759268e-01,\n",
       "          3.37695897e-01, -2.04320878e-01,  9.07255244e-03,\n",
       "         -9.65734199e-02, -1.36191458e-01, -1.31463766e-01,\n",
       "         -3.92319202e-01, -8.19715187e-02,  7.73470774e-02,\n",
       "         -8.61238465e-02,  6.28682226e-02, -2.07991451e-01,\n",
       "         -2.39691630e-01,  3.22662979e-01, -2.20161438e-01,\n",
       "          3.29006672e-01,  3.95618647e-01, -2.93291569e-01,\n",
       "          5.48132837e-01, -3.86862993e-01, -1.18423149e-01,\n",
       "         -4.85317588e-01, -5.97198633e-03, -3.55902344e-01,\n",
       "         -1.66036099e-01, -2.29918003e-01, -2.19262630e-01,\n",
       "         -7.30103254e-02, -8.79942700e-02, -2.55773932e-01,\n",
       "         -5.11258304e-01,  6.51386321e-01, -3.71322989e-01,\n",
       "         -1.11988634e-01,  3.93207639e-01, -4.68091406e-02,\n",
       "          3.33583295e-01,  1.52026832e-01, -6.35018125e-02,\n",
       "         -7.81762600e-01,  3.02751064e-01,  4.22562147e-03,\n",
       "          3.15899491e-01,  2.60902613e-01, -3.91814053e-01,\n",
       "         -4.81653959e-01,  4.60748747e-02,  1.32697597e-01,\n",
       "         -1.99109972e-01, -1.45504668e-01, -1.10148215e+00,\n",
       "          4.51680392e-01, -6.13367558e-01,  3.62139978e-02,\n",
       "         -5.03424168e-01,  3.00243020e-01,  1.42832056e-01,\n",
       "          6.87927663e-01, -3.47573996e-01, -2.82415390e-01,\n",
       "          4.38721746e-01,  3.71019721e-01, -1.79355517e-01,\n",
       "         -4.20026988e-01, -3.47705670e-02, -5.21990322e-02,\n",
       "         -2.87759930e-01,  2.40370616e-01,  1.05150212e-02,\n",
       "          1.07018739e-01, -3.06868076e-01,  3.63541245e-01,\n",
       "         -1.34131923e-01,  5.25996923e-01, -8.45379010e-02,\n",
       "         -2.29345858e-01, -3.57661098e-01, -4.84894142e-02,\n",
       "         -3.28366339e-01,  2.76079506e-01],\n",
       "        [ 1.85319737e-01,  3.35257590e-01, -3.35856825e-01,\n",
       "          2.32078105e-01,  2.61393994e-01,  3.08420002e-01,\n",
       "          3.05857569e-01,  4.19849962e-01,  4.29694392e-02,\n",
       "          3.44550163e-01,  1.02380693e-01, -5.77015519e-01,\n",
       "          3.85965168e-01,  8.77633244e-02,  1.24555834e-01,\n",
       "          1.02981567e-01, -2.75109649e-01,  4.76535916e-01,\n",
       "         -5.16052067e-01,  3.80851418e-01,  6.86663032e-01,\n",
       "         -1.71251804e-01, -8.44060659e-01, -7.33322382e-01,\n",
       "         -4.46505755e-01,  2.74170548e-01, -3.58426501e-03,\n",
       "          1.56825885e-01,  2.35794321e-01,  4.26494569e-01,\n",
       "          3.42081517e-01,  7.15966299e-02, -1.62425846e-01,\n",
       "         -4.10129070e-01,  1.52673021e-01,  6.75866246e-01,\n",
       "          9.87479314e-02,  2.65841186e-01, -4.04511571e-01,\n",
       "          5.75060368e-01, -8.72485340e-02,  1.81643739e-01,\n",
       "          1.98977645e-02,  1.10934135e-02,  1.57414392e-01,\n",
       "         -3.91838998e-02, -2.86495954e-01,  3.44083905e-01,\n",
       "          3.09202135e-01, -6.20539486e-02,  5.22503614e-01,\n",
       "          3.43329042e-01, -2.06298053e-01,  2.26619706e-01,\n",
       "          4.08415347e-01, -2.46715754e-01,  2.41580561e-01,\n",
       "         -9.19545516e-02,  6.57967627e-02, -5.05768716e-01,\n",
       "         -1.61789328e-01, -1.50181025e-01, -4.17500764e-01,\n",
       "         -1.05114527e-01,  2.17803538e-01, -1.87489375e-01,\n",
       "          5.76501191e-01, -1.19027816e-01, -3.67509484e-01,\n",
       "         -5.10664701e-01,  1.94103375e-01, -8.03539753e-02,\n",
       "         -1.43174335e-01, -7.45664775e-01,  1.60852760e-01,\n",
       "         -1.14405639e-01, -1.50147662e-01, -7.17857480e-02,\n",
       "         -3.70075017e-01,  3.89015496e-01, -1.21401988e-01,\n",
       "         -8.94804299e-02, -1.49302259e-01, -3.26847464e-01,\n",
       "          5.32764554e-01, -2.16602460e-01, -1.02475442e-01,\n",
       "         -2.16621935e-01,  6.79424524e-01,  1.21430844e-01,\n",
       "         -1.26338005e-01, -7.66487792e-02,  5.08015007e-02,\n",
       "          5.62352166e-02,  3.87861967e-01,  1.87423617e-01,\n",
       "         -9.44741815e-02, -1.65678903e-01, -6.28986120e-01,\n",
       "          5.33244060e-03, -5.52434146e-01, -5.20647347e-01,\n",
       "          6.23696856e-02,  8.42961013e-01,  1.48090482e-01,\n",
       "         -5.03986664e-02, -3.37853193e-01, -2.94176906e-01,\n",
       "          2.46288911e-01, -6.27979040e-01,  2.82821149e-01,\n",
       "         -2.51962662e-01, -1.09816613e-02,  8.25571045e-02,\n",
       "         -2.41147250e-01, -6.13563836e-01,  2.05840439e-01,\n",
       "          1.94718137e-01,  7.11062253e-01, -6.78123310e-02,\n",
       "          3.50280404e-02, -5.44579864e-01,  4.16823030e-01,\n",
       "         -2.13169396e-01, -1.99027225e-01, -4.32820991e-02,\n",
       "         -4.75251168e-01, -2.40945309e-01],\n",
       "        [-5.04564270e-02,  5.17670691e-01, -4.21053678e-01,\n",
       "         -1.58447117e-01,  6.02708340e-01,  1.95466131e-01,\n",
       "          5.56432247e-01, -7.13130087e-02, -1.47549748e-01,\n",
       "          2.95023143e-01,  1.31775305e-01, -8.00782323e-01,\n",
       "         -4.32597771e-02,  3.72226119e-01,  2.23452330e-01,\n",
       "         -2.62644321e-01,  5.27525365e-01,  1.66128963e-01,\n",
       "         -4.13721353e-01,  5.22633851e-01,  4.40798908e-01,\n",
       "         -2.07962558e-01, -9.05734241e-01, -3.88466954e-01,\n",
       "          6.05020560e-02,  6.32613540e-01,  2.28327513e-01,\n",
       "          9.07267556e-02,  3.44280899e-01,  2.77413428e-01,\n",
       "         -2.70023048e-01,  2.80472964e-01, -1.48364112e-01,\n",
       "         -4.07204777e-02,  7.46968063e-03,  4.16363329e-01,\n",
       "          3.49110067e-01, -4.17998314e-01, -6.15065992e-02,\n",
       "          1.03729025e-01,  2.19858423e-01, -6.90523069e-03,\n",
       "          5.23607731e-01, -1.02857854e-02, -4.31564152e-02,\n",
       "          7.10775405e-02, -1.21545881e-01,  1.44158036e-01,\n",
       "          2.69960254e-01,  2.30202135e-02,  5.53866267e-01,\n",
       "         -9.29636583e-02, -5.43224812e-01, -2.94511020e-01,\n",
       "          6.91986829e-02, -3.59542310e-01,  6.34816527e-01,\n",
       "         -2.84874111e-01, -1.67713076e-01,  3.80808443e-01,\n",
       "         -4.73084480e-01, -3.49767618e-02, -1.14416972e-01,\n",
       "         -6.12155318e-01,  2.99209833e-01,  3.19749504e-01,\n",
       "          4.47086878e-02,  1.44644737e-01, -4.14316684e-01,\n",
       "         -4.33965214e-02,  1.03976913e-01,  4.88014817e-02,\n",
       "         -5.01291513e-01,  1.80965140e-01,  1.82062835e-02,\n",
       "          1.37245983e-01, -4.12587136e-01,  1.75349653e-01,\n",
       "         -1.86303079e-01, -2.22260848e-01, -1.76228732e-01,\n",
       "         -2.54391521e-01,  1.27668455e-01,  4.59016681e-01,\n",
       "          2.42293254e-01,  1.12421572e-01, -4.84541863e-01,\n",
       "         -3.83096039e-01,  8.92094225e-02,  7.24488795e-02,\n",
       "         -2.95244545e-01,  7.10201681e-01, -2.03659445e-01,\n",
       "         -1.26448378e-01,  1.35494724e-01,  1.61486790e-01,\n",
       "          3.98852915e-01, -2.30305329e-01,  9.11684483e-02,\n",
       "          8.87065474e-03, -1.06558055e-01, -1.62634879e-01,\n",
       "         -3.55545431e-01, -1.56527802e-01,  1.16684787e-01,\n",
       "          4.34479803e-01, -5.03032804e-01,  3.61621827e-01,\n",
       "         -2.60578450e-02, -6.74381137e-01,  1.74901888e-01,\n",
       "         -2.47404441e-01,  2.96919465e-01, -4.92266595e-01,\n",
       "         -2.27931533e-02, -5.14758825e-01,  1.67966008e-01,\n",
       "         -2.20456213e-01,  1.12310544e-01, -6.91658035e-02,\n",
       "         -2.52442986e-01,  4.51155722e-01,  2.91541293e-02,\n",
       "         -4.21218753e-01,  4.41829711e-02,  5.25984205e-02,\n",
       "         -6.85752109e-02, -5.30581735e-02],\n",
       "        [-2.01746687e-01, -4.67712879e-01, -1.33101031e-01,\n",
       "         -2.67522156e-01,  2.96016872e-01, -3.18242401e-01,\n",
       "          1.98252941e-03,  4.00919378e-01, -4.12789196e-01,\n",
       "         -9.94026661e-02,  7.01171935e-01,  4.20765914e-02,\n",
       "         -3.10475051e-01,  2.18709931e-02,  4.45064753e-01,\n",
       "          4.07634191e-02, -2.41802752e-01, -4.27139318e-03,\n",
       "         -4.89066184e-01, -6.66938648e-02, -1.02495000e-01,\n",
       "         -1.10937409e-01, -4.34144437e-01, -2.84561634e-01,\n",
       "          1.31472081e-01,  2.38367006e-01, -3.20273727e-01,\n",
       "          5.94659865e-01, -4.39709388e-02,  2.38558069e-01,\n",
       "         -6.21736310e-02,  5.15229777e-02,  2.20772848e-01,\n",
       "          3.50368053e-01, -4.50532645e-01, -1.17223531e-01,\n",
       "         -1.18292227e-01,  3.38265270e-01, -6.51336610e-02,\n",
       "         -2.86940962e-01,  5.03819048e-01,  1.09123252e-01,\n",
       "         -2.86720127e-01, -5.96038736e-02,  4.79036152e-01,\n",
       "          7.27601647e-02, -1.71991676e-01, -6.27689064e-01,\n",
       "         -3.46970826e-01, -7.84914494e-02,  5.61733320e-02,\n",
       "          7.45042622e-01,  1.89144030e-01,  2.94251978e-01,\n",
       "         -3.65517199e-01, -2.25712165e-01,  3.27748363e-03,\n",
       "         -3.25668782e-01,  1.78372934e-01,  1.81255490e-01,\n",
       "         -1.97704718e-01, -3.89379635e-02,  9.05956782e-04,\n",
       "         -3.35909903e-01,  4.79005426e-01, -3.83747131e-01,\n",
       "         -1.22583009e-01,  3.37746918e-01,  1.73068896e-01,\n",
       "          6.14236966e-02, -1.65565498e-02,  2.85748750e-01,\n",
       "         -6.28648639e-01, -2.03812093e-01,  4.17325377e-01,\n",
       "         -3.37084085e-01,  1.33411102e-02,  8.84729065e-03,\n",
       "          6.08069420e-01, -5.56060150e-02,  1.73058156e-02,\n",
       "         -1.76286012e-01, -1.62249207e-01,  5.86169481e-01,\n",
       "          1.51823327e-01, -9.54155773e-02, -2.38275617e-01,\n",
       "         -7.47096717e-01,  3.28173369e-01,  7.07225502e-01,\n",
       "          3.67216557e-01,  2.69310139e-02,  2.75665641e-01,\n",
       "          1.65408745e-01,  9.91400890e-03,  3.95243950e-02,\n",
       "          4.16914284e-01, -9.44819510e-01, -3.06705058e-01,\n",
       "         -2.49653175e-01, -5.47398210e-01, -2.76631624e-01,\n",
       "         -2.08294943e-01,  1.96637020e-01,  9.99473333e-02,\n",
       "          1.13667376e-01, -4.00223732e-01, -5.12230806e-02,\n",
       "          6.38157129e-01,  3.15633565e-02,  2.53149480e-01,\n",
       "          2.65549421e-01,  4.72704247e-02,  3.13676924e-01,\n",
       "          2.51217037e-01, -1.04609607e-02, -2.74647862e-01,\n",
       "          1.29139885e-01,  7.33567625e-02, -5.42553961e-02,\n",
       "         -2.39207268e-01,  1.90721557e-01,  2.72381037e-01,\n",
       "         -1.47440284e-01, -7.36326933e-01, -2.29770124e-01,\n",
       "         -5.91095746e-01,  3.95329684e-01]]], dtype=float32)>"
      ]
     },
     "metadata": {},
     "execution_count": 24
    }
   ],
   "source": [
    "tf.expand_dims(np.array(list(tmp['MovieID'].array)), axis=0)"
   ]
  },
  {
   "cell_type": "code",
   "execution_count": 21,
   "metadata": {},
   "outputs": [],
   "source": [
    "def get_list(x):\n",
    "    return \" \".join(list(x['MovieID']))"
   ]
  },
  {
   "cell_type": "code",
   "execution_count": 33,
   "metadata": {
    "tags": []
   },
   "outputs": [],
   "source": [
    "ratings['MovieID'] = ratings['MovieID'].astype(str)\n",
    "tmp = ratings[['UserID', 'MovieID']].groupby('UserID').apply(get_list)\n"
   ]
  },
  {
   "cell_type": "code",
   "execution_count": 34,
   "metadata": {},
   "outputs": [
    {
     "output_type": "execute_result",
     "data": {
      "text/plain": [
       "      UserID                                            MovieID\n",
       "0          1  1193 661 914 3408 2355 1197 1287 2804 594 919 ...\n",
       "1          2  1357 3068 1537 647 2194 648 2268 2628 1103 291...\n",
       "2          3  3421 1641 648 1394 3534 104 2735 1210 1431 386...\n",
       "3          4  3468 1210 2951 1214 1036 260 2028 480 1196 119...\n",
       "4          5  2987 2333 1175 39 288 2337 1535 1392 2268 1466...\n",
       "...      ...                                                ...\n",
       "6035    6036  571 574 2053 2054 2058 588 589 4 3005 6 3006 3...\n",
       "6036    6037  589 3006 1407 2064 2065 593 3015 903 904 905 9...\n",
       "6037    6038  1419 920 3088 232 1136 1148 1183 2146 3548 356...\n",
       "6038    6039  588 2067 1416 3022 3028 2080 2083 2087 3035 30...\n",
       "6039    6040  573 589 1 2068 592 593 3016 3017 2070 1419 207...\n",
       "\n",
       "[6040 rows x 2 columns]"
      ],
      "text/html": "<div>\n<style scoped>\n    .dataframe tbody tr th:only-of-type {\n        vertical-align: middle;\n    }\n\n    .dataframe tbody tr th {\n        vertical-align: top;\n    }\n\n    .dataframe thead th {\n        text-align: right;\n    }\n</style>\n<table border=\"1\" class=\"dataframe\">\n  <thead>\n    <tr style=\"text-align: right;\">\n      <th></th>\n      <th>UserID</th>\n      <th>MovieID</th>\n    </tr>\n  </thead>\n  <tbody>\n    <tr>\n      <th>0</th>\n      <td>1</td>\n      <td>1193 661 914 3408 2355 1197 1287 2804 594 919 ...</td>\n    </tr>\n    <tr>\n      <th>1</th>\n      <td>2</td>\n      <td>1357 3068 1537 647 2194 648 2268 2628 1103 291...</td>\n    </tr>\n    <tr>\n      <th>2</th>\n      <td>3</td>\n      <td>3421 1641 648 1394 3534 104 2735 1210 1431 386...</td>\n    </tr>\n    <tr>\n      <th>3</th>\n      <td>4</td>\n      <td>3468 1210 2951 1214 1036 260 2028 480 1196 119...</td>\n    </tr>\n    <tr>\n      <th>4</th>\n      <td>5</td>\n      <td>2987 2333 1175 39 288 2337 1535 1392 2268 1466...</td>\n    </tr>\n    <tr>\n      <th>...</th>\n      <td>...</td>\n      <td>...</td>\n    </tr>\n    <tr>\n      <th>6035</th>\n      <td>6036</td>\n      <td>571 574 2053 2054 2058 588 589 4 3005 6 3006 3...</td>\n    </tr>\n    <tr>\n      <th>6036</th>\n      <td>6037</td>\n      <td>589 3006 1407 2064 2065 593 3015 903 904 905 9...</td>\n    </tr>\n    <tr>\n      <th>6037</th>\n      <td>6038</td>\n      <td>1419 920 3088 232 1136 1148 1183 2146 3548 356...</td>\n    </tr>\n    <tr>\n      <th>6038</th>\n      <td>6039</td>\n      <td>588 2067 1416 3022 3028 2080 2083 2087 3035 30...</td>\n    </tr>\n    <tr>\n      <th>6039</th>\n      <td>6040</td>\n      <td>573 589 1 2068 592 593 3016 3017 2070 1419 207...</td>\n    </tr>\n  </tbody>\n</table>\n<p>6040 rows × 2 columns</p>\n</div>"
     },
     "metadata": {},
     "execution_count": 34
    }
   ],
   "source": [
    "tmp = tmp.reset_index()\n",
    "tmp.columns = ['UserID', 'MovieID']\n",
    "tmp"
   ]
  },
  {
   "cell_type": "code",
   "execution_count": 30,
   "metadata": {},
   "outputs": [
    {
     "output_type": "execute_result",
     "data": {
      "text/plain": [
       "UserID\n",
       "1       1193 661 914 3408 2355 1197 1287 2804 594 919 ...\n",
       "2       1357 3068 1537 647 2194 648 2268 2628 1103 291...\n",
       "3       3421 1641 648 1394 3534 104 2735 1210 1431 386...\n",
       "4       3468 1210 2951 1214 1036 260 2028 480 1196 119...\n",
       "5       2987 2333 1175 39 288 2337 1535 1392 2268 1466...\n",
       "                              ...                        \n",
       "6036    571 574 2053 2054 2058 588 589 4 3005 6 3006 3...\n",
       "6037    589 3006 1407 2064 2065 593 3015 903 904 905 9...\n",
       "6038    1419 920 3088 232 1136 1148 1183 2146 3548 356...\n",
       "6039    588 2067 1416 3022 3028 2080 2083 2087 3035 30...\n",
       "6040    573 589 1 2068 592 593 3016 3017 2070 1419 207...\n",
       "Length: 6040, dtype: object"
      ]
     },
     "metadata": {},
     "execution_count": 30
    }
   ],
   "source": [
    "tmp"
   ]
  },
  {
   "cell_type": "code",
   "execution_count": 28,
   "metadata": {
    "ExecuteTime": {
     "end_time": "2021-04-06T11:54:14.219958Z",
     "start_time": "2021-04-06T11:54:14.188913Z"
    }
   },
   "outputs": [
    {
     "output_type": "execute_result",
     "data": {
      "text/plain": [
       "   MovieID                               Title                        Genres\n",
       "0        1                    Toy Story (1995)   Animation|Children's|Comedy\n",
       "1        2                      Jumanji (1995)  Adventure|Children's|Fantasy\n",
       "2        3             Grumpier Old Men (1995)                Comedy|Romance\n",
       "3        4            Waiting to Exhale (1995)                  Comedy|Drama\n",
       "4        5  Father of the Bride Part II (1995)                        Comedy"
      ],
      "text/html": "<div>\n<style scoped>\n    .dataframe tbody tr th:only-of-type {\n        vertical-align: middle;\n    }\n\n    .dataframe tbody tr th {\n        vertical-align: top;\n    }\n\n    .dataframe thead th {\n        text-align: right;\n    }\n</style>\n<table border=\"1\" class=\"dataframe\">\n  <thead>\n    <tr style=\"text-align: right;\">\n      <th></th>\n      <th>MovieID</th>\n      <th>Title</th>\n      <th>Genres</th>\n    </tr>\n  </thead>\n  <tbody>\n    <tr>\n      <th>0</th>\n      <td>1</td>\n      <td>Toy Story (1995)</td>\n      <td>Animation|Children's|Comedy</td>\n    </tr>\n    <tr>\n      <th>1</th>\n      <td>2</td>\n      <td>Jumanji (1995)</td>\n      <td>Adventure|Children's|Fantasy</td>\n    </tr>\n    <tr>\n      <th>2</th>\n      <td>3</td>\n      <td>Grumpier Old Men (1995)</td>\n      <td>Comedy|Romance</td>\n    </tr>\n    <tr>\n      <th>3</th>\n      <td>4</td>\n      <td>Waiting to Exhale (1995)</td>\n      <td>Comedy|Drama</td>\n    </tr>\n    <tr>\n      <th>4</th>\n      <td>5</td>\n      <td>Father of the Bride Part II (1995)</td>\n      <td>Comedy</td>\n    </tr>\n  </tbody>\n</table>\n</div>"
     },
     "metadata": {},
     "execution_count": 28
    }
   ],
   "source": [
    "movies.head()"
   ]
  },
  {
   "cell_type": "code",
   "execution_count": 29,
   "metadata": {
    "ExecuteTime": {
     "end_time": "2021-04-06T11:56:36.599121Z",
     "start_time": "2021-04-06T11:56:36.565453Z"
    }
   },
   "outputs": [
    {
     "output_type": "execute_result",
     "data": {
      "text/plain": [
       "   UserID Gender  Age  Occupation Zip-code\n",
       "0       1      F    1          10    48067\n",
       "1       2      M   56          16    70072\n",
       "2       3      M   25          15    55117\n",
       "3       4      M   45           7    02460\n",
       "4       5      M   25          20    55455"
      ],
      "text/html": "<div>\n<style scoped>\n    .dataframe tbody tr th:only-of-type {\n        vertical-align: middle;\n    }\n\n    .dataframe tbody tr th {\n        vertical-align: top;\n    }\n\n    .dataframe thead th {\n        text-align: right;\n    }\n</style>\n<table border=\"1\" class=\"dataframe\">\n  <thead>\n    <tr style=\"text-align: right;\">\n      <th></th>\n      <th>UserID</th>\n      <th>Gender</th>\n      <th>Age</th>\n      <th>Occupation</th>\n      <th>Zip-code</th>\n    </tr>\n  </thead>\n  <tbody>\n    <tr>\n      <th>0</th>\n      <td>1</td>\n      <td>F</td>\n      <td>1</td>\n      <td>10</td>\n      <td>48067</td>\n    </tr>\n    <tr>\n      <th>1</th>\n      <td>2</td>\n      <td>M</td>\n      <td>56</td>\n      <td>16</td>\n      <td>70072</td>\n    </tr>\n    <tr>\n      <th>2</th>\n      <td>3</td>\n      <td>M</td>\n      <td>25</td>\n      <td>15</td>\n      <td>55117</td>\n    </tr>\n    <tr>\n      <th>3</th>\n      <td>4</td>\n      <td>M</td>\n      <td>45</td>\n      <td>7</td>\n      <td>02460</td>\n    </tr>\n    <tr>\n      <th>4</th>\n      <td>5</td>\n      <td>M</td>\n      <td>25</td>\n      <td>20</td>\n      <td>55455</td>\n    </tr>\n  </tbody>\n</table>\n</div>"
     },
     "metadata": {},
     "execution_count": 29
    }
   ],
   "source": [
    "users.head()"
   ]
  },
  {
   "cell_type": "code",
   "execution_count": 98,
   "metadata": {},
   "outputs": [
    {
     "output_type": "execute_result",
     "data": {
      "text/plain": [
       "{1, 18, 25, 35, 45, 50, 56}"
      ]
     },
     "metadata": {},
     "execution_count": 98
    }
   ],
   "source": [
    "set(users['Age'].to_list())"
   ]
  },
  {
   "cell_type": "code",
   "execution_count": 97,
   "metadata": {},
   "outputs": [
    {
     "output_type": "execute_result",
     "data": {
      "text/plain": [
       "7"
      ]
     },
     "metadata": {},
     "execution_count": 97
    }
   ],
   "source": [
    "users['Age'].nunique()"
   ]
  },
  {
   "cell_type": "code",
   "execution_count": 30,
   "metadata": {
    "ExecuteTime": {
     "end_time": "2021-04-06T11:57:25.666171Z",
     "start_time": "2021-04-06T11:57:25.629966Z"
    }
   },
   "outputs": [
    {
     "output_type": "execute_result",
     "data": {
      "text/plain": [
       "   UserID  MovieID  Rating  Timestamp\n",
       "0       1     1193       5  978300760\n",
       "1       1      661       3  978302109\n",
       "2       1      914       3  978301968\n",
       "3       1     3408       4  978300275\n",
       "4       1     2355       5  978824291"
      ],
      "text/html": "<div>\n<style scoped>\n    .dataframe tbody tr th:only-of-type {\n        vertical-align: middle;\n    }\n\n    .dataframe tbody tr th {\n        vertical-align: top;\n    }\n\n    .dataframe thead th {\n        text-align: right;\n    }\n</style>\n<table border=\"1\" class=\"dataframe\">\n  <thead>\n    <tr style=\"text-align: right;\">\n      <th></th>\n      <th>UserID</th>\n      <th>MovieID</th>\n      <th>Rating</th>\n      <th>Timestamp</th>\n    </tr>\n  </thead>\n  <tbody>\n    <tr>\n      <th>0</th>\n      <td>1</td>\n      <td>1193</td>\n      <td>5</td>\n      <td>978300760</td>\n    </tr>\n    <tr>\n      <th>1</th>\n      <td>1</td>\n      <td>661</td>\n      <td>3</td>\n      <td>978302109</td>\n    </tr>\n    <tr>\n      <th>2</th>\n      <td>1</td>\n      <td>914</td>\n      <td>3</td>\n      <td>978301968</td>\n    </tr>\n    <tr>\n      <th>3</th>\n      <td>1</td>\n      <td>3408</td>\n      <td>4</td>\n      <td>978300275</td>\n    </tr>\n    <tr>\n      <th>4</th>\n      <td>1</td>\n      <td>2355</td>\n      <td>5</td>\n      <td>978824291</td>\n    </tr>\n  </tbody>\n</table>\n</div>"
     },
     "metadata": {},
     "execution_count": 30
    }
   ],
   "source": [
    "ratings.head()"
   ]
  },
  {
   "cell_type": "code",
   "execution_count": 4,
   "metadata": {},
   "outputs": [],
   "source": [
    "user_id_num = users['UserID'].nunique()\n"
   ]
  },
  {
   "cell_type": "code",
   "execution_count": 51,
   "metadata": {},
   "outputs": [],
   "source": [
    "user_id_embedding = keras.Sequential([\n",
    "            layers.Embedding(user_id_num, Config.user_id_embedding_output_dim,  name=\"embedding\"),\n",
    "            layers.Dense(32, kernel_initializer='he_normal', name='use_id_fc'),\n",
    "        ], name='user_id_embedding')"
   ]
  },
  {
   "cell_type": "code",
   "execution_count": 40,
   "metadata": {},
   "outputs": [
    {
     "output_type": "execute_result",
     "data": {
      "text/plain": [
       "<tf.Tensor: shape=(1, 3, 32), dtype=float32, numpy=\n",
       "array([[[ 2.5832716e-02,  2.8851580e-02, -3.6324035e-02, -2.7316391e-02,\n",
       "         -6.4673908e-03, -2.3645306e-02,  2.3282003e-02, -6.3903257e-04,\n",
       "         -4.7676839e-02,  5.4590330e-03,  2.1130171e-02, -4.7348537e-02,\n",
       "          4.3188345e-02, -4.9422313e-02,  1.1717565e-03, -3.6031723e-02,\n",
       "          6.0714781e-05,  1.4065515e-02, -5.9670694e-03,  2.4082575e-02,\n",
       "         -1.8593132e-02, -2.1727145e-02, -1.1332046e-02,  2.4214517e-02,\n",
       "         -3.1360015e-03,  2.7307991e-02, -1.6783796e-02, -3.6213614e-02,\n",
       "          6.6113696e-03, -4.3266665e-02, -2.9778052e-02,  9.3796365e-03],\n",
       "        [-2.6907885e-02,  3.5011936e-02,  2.5391761e-02,  1.8592153e-02,\n",
       "         -2.0112384e-02,  1.8152464e-02, -1.0144889e-02,  2.2828605e-02,\n",
       "         -2.6873279e-02, -3.8172018e-02,  4.7138784e-02,  4.7662329e-02,\n",
       "         -3.8386177e-02,  3.4824047e-02, -2.8643167e-02,  8.6031109e-04,\n",
       "         -3.5016011e-02, -4.2482805e-02,  3.2668710e-03,  8.6185932e-03,\n",
       "          6.7032948e-03,  2.1722350e-02, -2.7902067e-02, -1.4946938e-02,\n",
       "          1.0288574e-02,  3.0589793e-02, -2.6555264e-02,  2.0332638e-02,\n",
       "         -1.9426012e-02,  3.4275640e-02,  7.1129315e-03, -3.6436804e-03],\n",
       "        [-3.4999393e-02,  4.7640894e-02, -2.1777749e-03, -2.6962519e-02,\n",
       "         -1.5949011e-03, -9.9067464e-03,  1.9307110e-02,  4.2579476e-02,\n",
       "         -2.7264286e-02,  1.2564186e-02,  4.2864051e-02,  1.7468929e-03,\n",
       "         -3.3944957e-03,  1.0716103e-02,  1.7175946e-02,  4.5908738e-02,\n",
       "         -1.2738526e-02,  3.7787918e-02, -1.4751673e-02,  2.8042618e-02,\n",
       "         -1.4860831e-02, -2.2594322e-02, -1.8204652e-02, -9.7680464e-03,\n",
       "         -4.3604374e-02, -1.7905463e-02,  2.8539728e-02, -3.0649139e-02,\n",
       "         -1.6089901e-03, -1.2386274e-02,  1.0906570e-03, -9.0867504e-03]]],\n",
       "      dtype=float32)>"
      ]
     },
     "metadata": {},
     "execution_count": 40
    }
   ],
   "source": [
    "user_id_embedding(tf.expand_dims(users['UserID'][:3], axis=0))"
   ]
  },
  {
   "cell_type": "code",
   "execution_count": 3,
   "metadata": {},
   "outputs": [],
   "source": [
    "genres = movies['Genres'].apply(lambda x: x.split('|'))"
   ]
  },
  {
   "cell_type": "code",
   "execution_count": 12,
   "metadata": {},
   "outputs": [],
   "source": [
    "genres = movies['Genres'].apply(lambda x: x.split('|')).to_list()\n",
    "genres = list(set(list(np.hstack(genres))))\n",
    "genres_map = dict(zip(genres, [i + 1 for i in range(len(genres))]))\n",
    "genres = movies['Genres'].apply(lambda x: x.split('|'))\\\n",
    "                .apply(lambda x: [genres_map[i] for i in x])"
   ]
  },
  {
   "cell_type": "code",
   "execution_count": 25,
   "metadata": {},
   "outputs": [
    {
     "output_type": "execute_result",
     "data": {
      "text/plain": [
       "{'Mystery': 1,\n",
       " 'Fantasy': 2,\n",
       " 'Sci-Fi': 3,\n",
       " 'Documentary': 4,\n",
       " 'Crime': 5,\n",
       " 'Thriller': 6,\n",
       " 'Action': 7,\n",
       " 'War': 8,\n",
       " 'Western': 9,\n",
       " \"Children's\": 10,\n",
       " 'Comedy': 11,\n",
       " 'Horror': 12,\n",
       " 'Romance': 13,\n",
       " 'Film-Noir': 14,\n",
       " 'Musical': 15,\n",
       " 'Adventure': 16,\n",
       " 'Drama': 17,\n",
       " 'Animation': 18}"
      ]
     },
     "metadata": {},
     "execution_count": 25
    }
   ],
   "source": [
    "genres_map"
   ]
  },
  {
   "cell_type": "code",
   "execution_count": 25,
   "metadata": {},
   "outputs": [],
   "source": [
    "movie_categories_embedding = layers.Embedding(19, Config.movie_categories_output_num, mask_zero=True, name='movie_categories_embedding')"
   ]
  },
  {
   "cell_type": "code",
   "execution_count": 21,
   "metadata": {},
   "outputs": [],
   "source": [
    "inputs = tf.keras.preprocessing.sequence.pad_sequences(\n",
    "    genres, padding=\"post\"\n",
    ")"
   ]
  },
  {
   "cell_type": "code",
   "execution_count": 27,
   "metadata": {},
   "outputs": [],
   "source": [
    "masked_output = movie_categories_embedding(inputs)"
   ]
  },
  {
   "cell_type": "code",
   "execution_count": 54,
   "metadata": {},
   "outputs": [],
   "source": [
    "mask = tf.cast(masked_output._keras_mask, dtype=tf.float32)"
   ]
  },
  {
   "cell_type": "code",
   "execution_count": 55,
   "metadata": {},
   "outputs": [
    {
     "output_type": "execute_result",
     "data": {
      "text/plain": [
       "<tf.Tensor: shape=(3883, 6), dtype=float32, numpy=\n",
       "array([[1., 1., 1., 0., 0., 0.],\n",
       "       [1., 1., 1., 0., 0., 0.],\n",
       "       [1., 1., 0., 0., 0., 0.],\n",
       "       ...,\n",
       "       [1., 0., 0., 0., 0., 0.],\n",
       "       [1., 0., 0., 0., 0., 0.],\n",
       "       [1., 1., 0., 0., 0., 0.]], dtype=float32)>"
      ]
     },
     "metadata": {},
     "execution_count": 55
    }
   ],
   "source": [
    "mask"
   ]
  },
  {
   "cell_type": "code",
   "execution_count": 59,
   "metadata": {},
   "outputs": [],
   "source": [
    "masked_output = masked_output * tf.expand_dims(mask, axis=2)"
   ]
  },
  {
   "cell_type": "code",
   "execution_count": 61,
   "metadata": {},
   "outputs": [],
   "source": [
    "masked_output = tf.reduce_sum(masked_output, axis=1, keepdims=True)"
   ]
  },
  {
   "cell_type": "code",
   "execution_count": 62,
   "metadata": {},
   "outputs": [],
   "source": [
    "movie_categories_fc = layers.Dense(Config.embedding_dim, kernel_initializer='he_normal', name='movie_categories_fc')\n"
   ]
  },
  {
   "cell_type": "code",
   "execution_count": 64,
   "metadata": {},
   "outputs": [],
   "source": [
    "movie_categories = movie_categories_fc(masked_output)"
   ]
  },
  {
   "cell_type": "code",
   "execution_count": 81,
   "metadata": {},
   "outputs": [],
   "source": [
    "movie_id_embedding = keras.Sequential([\n",
    "            layers.Embedding(3953, Config.move_id_embedding_output_dim, input_length=1, name='embedding'),\n",
    "            layers.Dense(Config.embedding_dim, kernel_initializer='he_normal', name='movie_id_fc')\n",
    "        ], name='movie_id_embedding')"
   ]
  },
  {
   "cell_type": "code",
   "execution_count": 84,
   "metadata": {},
   "outputs": [],
   "source": [
    "movie_id = movie_id_embedding(tf.expand_dims(movies['MovieID'].to_list(), axis=1))"
   ]
  },
  {
   "cell_type": "code",
   "execution_count": 85,
   "metadata": {},
   "outputs": [
    {
     "output_type": "execute_result",
     "data": {
      "text/plain": [
       "<tf.Tensor: shape=(3883, 1, 64), dtype=float32, numpy=\n",
       "array([[[ 0.0201471 , -0.09114599,  0.0557896 , ...,  0.05699036,\n",
       "         -0.01148556, -0.0306964 ]],\n",
       "\n",
       "       [[-0.06619983, -0.02614153, -0.04566379, ...,  0.0535129 ,\n",
       "         -0.00429837, -0.08115232]],\n",
       "\n",
       "       [[-0.01030343, -0.00730711, -0.08777495, ...,  0.08364037,\n",
       "          0.0315102 ,  0.00064117]],\n",
       "\n",
       "       ...,\n",
       "\n",
       "       [[ 0.04869591,  0.01327367,  0.01726161, ..., -0.00299545,\n",
       "         -0.02317938,  0.01076081]],\n",
       "\n",
       "       [[ 0.00958184, -0.07442987, -0.03849153, ..., -0.00299545,\n",
       "         -0.02317938,  0.01076081]],\n",
       "\n",
       "       [[ 0.02482926, -0.02498857, -0.00850435, ..., -0.04169276,\n",
       "         -0.07790941,  0.06577192]]], dtype=float32)>"
      ]
     },
     "metadata": {},
     "execution_count": 85
    }
   ],
   "source": [
    "layers.concatenate([movie_id, movie_categories])"
   ]
  },
  {
   "cell_type": "code",
   "execution_count": 106,
   "metadata": {},
   "outputs": [],
   "source": [
    "title = movies['Title'].apply(lambda x: re.sub(r\"[-()\\\"/@;:<>{}`+=~|.,]\", \"\", x).split()).to_list()\n",
    "title = list(set(list(np.hstack(title))))\n",
    "title_map = dict(zip(title, [i + 1 for i in range(len(title))]))\n",
    "title_input = movies['Title'].apply(lambda x: re.sub(r\"[-()\\\"/@;:<>{}`+=~|.,]\", \"\", x).split())\\\n",
    "                .apply(lambda x: [title_map[i] for i in x])"
   ]
  },
  {
   "cell_type": "code",
   "execution_count": 107,
   "metadata": {},
   "outputs": [
    {
     "output_type": "execute_result",
     "data": {
      "text/plain": [
       "4749"
      ]
     },
     "metadata": {},
     "execution_count": 107
    }
   ],
   "source": [
    "len(title)"
   ]
  },
  {
   "cell_type": "code",
   "execution_count": 99,
   "metadata": {},
   "outputs": [],
   "source": [
    "from TextCNN import TextCNN"
   ]
  },
  {
   "cell_type": "code",
   "execution_count": 113,
   "metadata": {},
   "outputs": [],
   "source": [
    "textCNN = TextCNN(15, 4750, 64, 32, 'relu')\n",
    "model = textCNN.get_model()"
   ]
  },
  {
   "cell_type": "code",
   "execution_count": 117,
   "metadata": {},
   "outputs": [],
   "source": [
    "inputs = tf.keras.preprocessing.sequence.pad_sequences(\n",
    "    title_input, padding=\"post\", maxlen=16\n",
    ")"
   ]
  },
  {
   "cell_type": "code",
   "execution_count": 118,
   "metadata": {},
   "outputs": [
    {
     "output_type": "execute_result",
     "data": {
      "text/plain": [
       "<tf.Tensor: shape=(3883, 32), dtype=float32, numpy=\n",
       "array([[0.        , 0.03447237, 0.        , ..., 0.0089156 , 0.        ,\n",
       "        0.        ],\n",
       "       [0.        , 0.        , 0.        , ..., 0.00912313, 0.00057399,\n",
       "        0.00920642],\n",
       "       [0.        , 0.        , 0.00089002, ..., 0.        , 0.        ,\n",
       "        0.        ],\n",
       "       ...,\n",
       "       [0.        , 0.0130721 , 0.        , ..., 0.        , 0.        ,\n",
       "        0.00730382],\n",
       "       [0.        , 0.        , 0.01939505, ..., 0.00673559, 0.        ,\n",
       "        0.        ],\n",
       "       [0.        , 0.00697018, 0.        , ..., 0.01283735, 0.        ,\n",
       "        0.        ]], dtype=float32)>"
      ]
     },
     "metadata": {},
     "execution_count": 118
    }
   ],
   "source": [
    "model(inputs)"
   ]
  },
  {
   "cell_type": "code",
   "execution_count": 119,
   "metadata": {},
   "outputs": [
    {
     "output_type": "execute_result",
     "data": {
      "text/plain": [
       "(3883, 16)"
      ]
     },
     "metadata": {},
     "execution_count": 119
    }
   ],
   "source": [
    "inputs.shape"
   ]
  },
  {
   "cell_type": "code",
   "execution_count": null,
   "metadata": {},
   "outputs": [],
   "source": []
  }
 ],
 "metadata": {
  "kernelspec": {
   "name": "python3710jvsc74a57bd0c3eeab4a179eaecfbd0c93cd8027d638ba2f883d06189c59071e8e2f33dc2863",
   "display_name": "Python 3.7.10 64-bit ('ai': conda)"
  },
  "language_info": {
   "codemirror_mode": {
    "name": "ipython",
    "version": 3
   },
   "file_extension": ".py",
   "mimetype": "text/x-python",
   "name": "python",
   "nbconvert_exporter": "python",
   "pygments_lexer": "ipython3",
   "version": "3.7.10"
  },
  "toc": {
   "base_numbering": 1,
   "nav_menu": {},
   "number_sections": true,
   "sideBar": true,
   "skip_h1_title": false,
   "title_cell": "Table of Contents",
   "title_sidebar": "Contents",
   "toc_cell": false,
   "toc_position": {},
   "toc_section_display": true,
   "toc_window_display": false
  },
  "metadata": {
   "interpreter": {
    "hash": "c3eeab4a179eaecfbd0c93cd8027d638ba2f883d06189c59071e8e2f33dc2863"
   }
  }
 },
 "nbformat": 4,
 "nbformat_minor": 4
}