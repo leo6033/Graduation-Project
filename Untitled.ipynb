{
 "cells": [
  {
   "cell_type": "code",
   "execution_count": 103,
   "metadata": {
    "ExecuteTime": {
     "end_time": "2021-04-06T11:47:45.496494Z",
     "start_time": "2021-04-06T11:47:45.473319Z"
    }
   },
   "outputs": [],
   "source": [
    "import random\n",
    "import math\n",
    "import numpy as np\n",
    "import pandas as pd\n",
    "import json\n",
    "import tensorflow as tf\n",
    "import tensorboard\n",
    "from tensorflow import keras\n",
    "from tensorflow.keras import Sequential, layers, optimizers, losses\n",
    "from config import Config\n",
    "import re"
   ]
  },
  {
   "cell_type": "code",
   "execution_count": 2,
   "metadata": {
    "ExecuteTime": {
     "end_time": "2021-04-06T11:57:14.052169Z",
     "start_time": "2021-04-06T11:56:59.814550Z"
    }
   },
   "outputs": [
    {
     "output_type": "stream",
     "name": "stderr",
     "text": [
      "ipykernel_launcher:5: ParserWarning: Falling back to the 'python' engine because the 'c' engine does not support regex separators (separators > 1 char and different from '\\s+' are interpreted as regex); you can avoid this warning by specifying engine='python'.\n",
      "ipykernel_launcher:6: ParserWarning: Falling back to the 'python' engine because the 'c' engine does not support regex separators (separators > 1 char and different from '\\s+' are interpreted as regex); you can avoid this warning by specifying engine='python'.\n",
      "ipykernel_launcher:7: ParserWarning: Falling back to the 'python' engine because the 'c' engine does not support regex separators (separators > 1 char and different from '\\s+' are interpreted as regex); you can avoid this warning by specifying engine='python'.\n"
     ]
    }
   ],
   "source": [
    "path = 'data/ml-1m/'\n",
    "movies_col = ['MovieID', 'Title', 'Genres']\n",
    "users_col = ['UserID', 'Gender', 'Age', 'Occupation', 'Zip-code']\n",
    "ratings_col = ['UserID', 'MovieID', 'Rating', 'Timestamp']\n",
    "movies = pd.read_csv(f'{path}movies.dat', sep=\"::\", names=movies_col)\n",
    "users = pd.read_csv(f'{path}users.dat', sep=\"::\", names=users_col)\n",
    "ratings = pd.read_csv(f'{path}ratings.dat', sep=\"::\", names=ratings_col)"
   ]
  },
  {
   "cell_type": "code",
   "execution_count": 28,
   "metadata": {
    "ExecuteTime": {
     "end_time": "2021-04-06T11:54:14.219958Z",
     "start_time": "2021-04-06T11:54:14.188913Z"
    }
   },
   "outputs": [
    {
     "output_type": "execute_result",
     "data": {
      "text/plain": [
       "   MovieID                               Title                        Genres\n",
       "0        1                    Toy Story (1995)   Animation|Children's|Comedy\n",
       "1        2                      Jumanji (1995)  Adventure|Children's|Fantasy\n",
       "2        3             Grumpier Old Men (1995)                Comedy|Romance\n",
       "3        4            Waiting to Exhale (1995)                  Comedy|Drama\n",
       "4        5  Father of the Bride Part II (1995)                        Comedy"
      ],
      "text/html": "<div>\n<style scoped>\n    .dataframe tbody tr th:only-of-type {\n        vertical-align: middle;\n    }\n\n    .dataframe tbody tr th {\n        vertical-align: top;\n    }\n\n    .dataframe thead th {\n        text-align: right;\n    }\n</style>\n<table border=\"1\" class=\"dataframe\">\n  <thead>\n    <tr style=\"text-align: right;\">\n      <th></th>\n      <th>MovieID</th>\n      <th>Title</th>\n      <th>Genres</th>\n    </tr>\n  </thead>\n  <tbody>\n    <tr>\n      <th>0</th>\n      <td>1</td>\n      <td>Toy Story (1995)</td>\n      <td>Animation|Children's|Comedy</td>\n    </tr>\n    <tr>\n      <th>1</th>\n      <td>2</td>\n      <td>Jumanji (1995)</td>\n      <td>Adventure|Children's|Fantasy</td>\n    </tr>\n    <tr>\n      <th>2</th>\n      <td>3</td>\n      <td>Grumpier Old Men (1995)</td>\n      <td>Comedy|Romance</td>\n    </tr>\n    <tr>\n      <th>3</th>\n      <td>4</td>\n      <td>Waiting to Exhale (1995)</td>\n      <td>Comedy|Drama</td>\n    </tr>\n    <tr>\n      <th>4</th>\n      <td>5</td>\n      <td>Father of the Bride Part II (1995)</td>\n      <td>Comedy</td>\n    </tr>\n  </tbody>\n</table>\n</div>"
     },
     "metadata": {},
     "execution_count": 28
    }
   ],
   "source": [
    "movies.head()"
   ]
  },
  {
   "cell_type": "code",
   "execution_count": 29,
   "metadata": {
    "ExecuteTime": {
     "end_time": "2021-04-06T11:56:36.599121Z",
     "start_time": "2021-04-06T11:56:36.565453Z"
    }
   },
   "outputs": [
    {
     "output_type": "execute_result",
     "data": {
      "text/plain": [
       "   UserID Gender  Age  Occupation Zip-code\n",
       "0       1      F    1          10    48067\n",
       "1       2      M   56          16    70072\n",
       "2       3      M   25          15    55117\n",
       "3       4      M   45           7    02460\n",
       "4       5      M   25          20    55455"
      ],
      "text/html": "<div>\n<style scoped>\n    .dataframe tbody tr th:only-of-type {\n        vertical-align: middle;\n    }\n\n    .dataframe tbody tr th {\n        vertical-align: top;\n    }\n\n    .dataframe thead th {\n        text-align: right;\n    }\n</style>\n<table border=\"1\" class=\"dataframe\">\n  <thead>\n    <tr style=\"text-align: right;\">\n      <th></th>\n      <th>UserID</th>\n      <th>Gender</th>\n      <th>Age</th>\n      <th>Occupation</th>\n      <th>Zip-code</th>\n    </tr>\n  </thead>\n  <tbody>\n    <tr>\n      <th>0</th>\n      <td>1</td>\n      <td>F</td>\n      <td>1</td>\n      <td>10</td>\n      <td>48067</td>\n    </tr>\n    <tr>\n      <th>1</th>\n      <td>2</td>\n      <td>M</td>\n      <td>56</td>\n      <td>16</td>\n      <td>70072</td>\n    </tr>\n    <tr>\n      <th>2</th>\n      <td>3</td>\n      <td>M</td>\n      <td>25</td>\n      <td>15</td>\n      <td>55117</td>\n    </tr>\n    <tr>\n      <th>3</th>\n      <td>4</td>\n      <td>M</td>\n      <td>45</td>\n      <td>7</td>\n      <td>02460</td>\n    </tr>\n    <tr>\n      <th>4</th>\n      <td>5</td>\n      <td>M</td>\n      <td>25</td>\n      <td>20</td>\n      <td>55455</td>\n    </tr>\n  </tbody>\n</table>\n</div>"
     },
     "metadata": {},
     "execution_count": 29
    }
   ],
   "source": [
    "users.head()"
   ]
  },
  {
   "cell_type": "code",
   "execution_count": 98,
   "metadata": {},
   "outputs": [
    {
     "output_type": "execute_result",
     "data": {
      "text/plain": [
       "{1, 18, 25, 35, 45, 50, 56}"
      ]
     },
     "metadata": {},
     "execution_count": 98
    }
   ],
   "source": [
    "set(users['Age'].to_list())"
   ]
  },
  {
   "cell_type": "code",
   "execution_count": 97,
   "metadata": {},
   "outputs": [
    {
     "output_type": "execute_result",
     "data": {
      "text/plain": [
       "7"
      ]
     },
     "metadata": {},
     "execution_count": 97
    }
   ],
   "source": [
    "users['Age'].nunique()"
   ]
  },
  {
   "cell_type": "code",
   "execution_count": 30,
   "metadata": {
    "ExecuteTime": {
     "end_time": "2021-04-06T11:57:25.666171Z",
     "start_time": "2021-04-06T11:57:25.629966Z"
    }
   },
   "outputs": [
    {
     "output_type": "execute_result",
     "data": {
      "text/plain": [
       "   UserID  MovieID  Rating  Timestamp\n",
       "0       1     1193       5  978300760\n",
       "1       1      661       3  978302109\n",
       "2       1      914       3  978301968\n",
       "3       1     3408       4  978300275\n",
       "4       1     2355       5  978824291"
      ],
      "text/html": "<div>\n<style scoped>\n    .dataframe tbody tr th:only-of-type {\n        vertical-align: middle;\n    }\n\n    .dataframe tbody tr th {\n        vertical-align: top;\n    }\n\n    .dataframe thead th {\n        text-align: right;\n    }\n</style>\n<table border=\"1\" class=\"dataframe\">\n  <thead>\n    <tr style=\"text-align: right;\">\n      <th></th>\n      <th>UserID</th>\n      <th>MovieID</th>\n      <th>Rating</th>\n      <th>Timestamp</th>\n    </tr>\n  </thead>\n  <tbody>\n    <tr>\n      <th>0</th>\n      <td>1</td>\n      <td>1193</td>\n      <td>5</td>\n      <td>978300760</td>\n    </tr>\n    <tr>\n      <th>1</th>\n      <td>1</td>\n      <td>661</td>\n      <td>3</td>\n      <td>978302109</td>\n    </tr>\n    <tr>\n      <th>2</th>\n      <td>1</td>\n      <td>914</td>\n      <td>3</td>\n      <td>978301968</td>\n    </tr>\n    <tr>\n      <th>3</th>\n      <td>1</td>\n      <td>3408</td>\n      <td>4</td>\n      <td>978300275</td>\n    </tr>\n    <tr>\n      <th>4</th>\n      <td>1</td>\n      <td>2355</td>\n      <td>5</td>\n      <td>978824291</td>\n    </tr>\n  </tbody>\n</table>\n</div>"
     },
     "metadata": {},
     "execution_count": 30
    }
   ],
   "source": [
    "ratings.head()"
   ]
  },
  {
   "cell_type": "code",
   "execution_count": 4,
   "metadata": {},
   "outputs": [],
   "source": [
    "user_id_num = users['UserID'].nunique()\n"
   ]
  },
  {
   "cell_type": "code",
   "execution_count": 51,
   "metadata": {},
   "outputs": [],
   "source": [
    "user_id_embedding = keras.Sequential([\n",
    "            layers.Embedding(user_id_num, Config.user_id_embedding_output_dim,  name=\"embedding\"),\n",
    "            layers.Dense(32, kernel_initializer='he_normal', name='use_id_fc'),\n",
    "        ], name='user_id_embedding')"
   ]
  },
  {
   "cell_type": "code",
   "execution_count": 40,
   "metadata": {},
   "outputs": [
    {
     "output_type": "execute_result",
     "data": {
      "text/plain": [
       "<tf.Tensor: shape=(1, 3, 32), dtype=float32, numpy=\n",
       "array([[[ 2.5832716e-02,  2.8851580e-02, -3.6324035e-02, -2.7316391e-02,\n",
       "         -6.4673908e-03, -2.3645306e-02,  2.3282003e-02, -6.3903257e-04,\n",
       "         -4.7676839e-02,  5.4590330e-03,  2.1130171e-02, -4.7348537e-02,\n",
       "          4.3188345e-02, -4.9422313e-02,  1.1717565e-03, -3.6031723e-02,\n",
       "          6.0714781e-05,  1.4065515e-02, -5.9670694e-03,  2.4082575e-02,\n",
       "         -1.8593132e-02, -2.1727145e-02, -1.1332046e-02,  2.4214517e-02,\n",
       "         -3.1360015e-03,  2.7307991e-02, -1.6783796e-02, -3.6213614e-02,\n",
       "          6.6113696e-03, -4.3266665e-02, -2.9778052e-02,  9.3796365e-03],\n",
       "        [-2.6907885e-02,  3.5011936e-02,  2.5391761e-02,  1.8592153e-02,\n",
       "         -2.0112384e-02,  1.8152464e-02, -1.0144889e-02,  2.2828605e-02,\n",
       "         -2.6873279e-02, -3.8172018e-02,  4.7138784e-02,  4.7662329e-02,\n",
       "         -3.8386177e-02,  3.4824047e-02, -2.8643167e-02,  8.6031109e-04,\n",
       "         -3.5016011e-02, -4.2482805e-02,  3.2668710e-03,  8.6185932e-03,\n",
       "          6.7032948e-03,  2.1722350e-02, -2.7902067e-02, -1.4946938e-02,\n",
       "          1.0288574e-02,  3.0589793e-02, -2.6555264e-02,  2.0332638e-02,\n",
       "         -1.9426012e-02,  3.4275640e-02,  7.1129315e-03, -3.6436804e-03],\n",
       "        [-3.4999393e-02,  4.7640894e-02, -2.1777749e-03, -2.6962519e-02,\n",
       "         -1.5949011e-03, -9.9067464e-03,  1.9307110e-02,  4.2579476e-02,\n",
       "         -2.7264286e-02,  1.2564186e-02,  4.2864051e-02,  1.7468929e-03,\n",
       "         -3.3944957e-03,  1.0716103e-02,  1.7175946e-02,  4.5908738e-02,\n",
       "         -1.2738526e-02,  3.7787918e-02, -1.4751673e-02,  2.8042618e-02,\n",
       "         -1.4860831e-02, -2.2594322e-02, -1.8204652e-02, -9.7680464e-03,\n",
       "         -4.3604374e-02, -1.7905463e-02,  2.8539728e-02, -3.0649139e-02,\n",
       "         -1.6089901e-03, -1.2386274e-02,  1.0906570e-03, -9.0867504e-03]]],\n",
       "      dtype=float32)>"
      ]
     },
     "metadata": {},
     "execution_count": 40
    }
   ],
   "source": [
    "user_id_embedding(tf.expand_dims(users['UserID'][:3], axis=0))"
   ]
  },
  {
   "cell_type": "code",
   "execution_count": 3,
   "metadata": {},
   "outputs": [],
   "source": [
    "genres = movies['Genres'].apply(lambda x: x.split('|'))"
   ]
  },
  {
   "cell_type": "code",
   "execution_count": 12,
   "metadata": {},
   "outputs": [],
   "source": [
    "genres = movies['Genres'].apply(lambda x: x.split('|')).to_list()\n",
    "genres = list(set(list(np.hstack(genres))))\n",
    "genres_map = dict(zip(genres, [i + 1 for i in range(len(genres))]))\n",
    "genres = movies['Genres'].apply(lambda x: x.split('|'))\\\n",
    "                .apply(lambda x: [genres_map[i] for i in x])"
   ]
  },
  {
   "cell_type": "code",
   "execution_count": 25,
   "metadata": {},
   "outputs": [
    {
     "output_type": "execute_result",
     "data": {
      "text/plain": [
       "{'Mystery': 1,\n",
       " 'Fantasy': 2,\n",
       " 'Sci-Fi': 3,\n",
       " 'Documentary': 4,\n",
       " 'Crime': 5,\n",
       " 'Thriller': 6,\n",
       " 'Action': 7,\n",
       " 'War': 8,\n",
       " 'Western': 9,\n",
       " \"Children's\": 10,\n",
       " 'Comedy': 11,\n",
       " 'Horror': 12,\n",
       " 'Romance': 13,\n",
       " 'Film-Noir': 14,\n",
       " 'Musical': 15,\n",
       " 'Adventure': 16,\n",
       " 'Drama': 17,\n",
       " 'Animation': 18}"
      ]
     },
     "metadata": {},
     "execution_count": 25
    }
   ],
   "source": [
    "genres_map"
   ]
  },
  {
   "cell_type": "code",
   "execution_count": 25,
   "metadata": {},
   "outputs": [],
   "source": [
    "movie_categories_embedding = layers.Embedding(19, Config.movie_categories_output_num, mask_zero=True, name='movie_categories_embedding')"
   ]
  },
  {
   "cell_type": "code",
   "execution_count": 21,
   "metadata": {},
   "outputs": [],
   "source": [
    "inputs = tf.keras.preprocessing.sequence.pad_sequences(\n",
    "    genres, padding=\"post\"\n",
    ")"
   ]
  },
  {
   "cell_type": "code",
   "execution_count": 27,
   "metadata": {},
   "outputs": [],
   "source": [
    "masked_output = movie_categories_embedding(inputs)"
   ]
  },
  {
   "cell_type": "code",
   "execution_count": 54,
   "metadata": {},
   "outputs": [],
   "source": [
    "mask = tf.cast(masked_output._keras_mask, dtype=tf.float32)"
   ]
  },
  {
   "cell_type": "code",
   "execution_count": 55,
   "metadata": {},
   "outputs": [
    {
     "output_type": "execute_result",
     "data": {
      "text/plain": [
       "<tf.Tensor: shape=(3883, 6), dtype=float32, numpy=\n",
       "array([[1., 1., 1., 0., 0., 0.],\n",
       "       [1., 1., 1., 0., 0., 0.],\n",
       "       [1., 1., 0., 0., 0., 0.],\n",
       "       ...,\n",
       "       [1., 0., 0., 0., 0., 0.],\n",
       "       [1., 0., 0., 0., 0., 0.],\n",
       "       [1., 1., 0., 0., 0., 0.]], dtype=float32)>"
      ]
     },
     "metadata": {},
     "execution_count": 55
    }
   ],
   "source": [
    "mask"
   ]
  },
  {
   "cell_type": "code",
   "execution_count": 59,
   "metadata": {},
   "outputs": [],
   "source": [
    "masked_output = masked_output * tf.expand_dims(mask, axis=2)"
   ]
  },
  {
   "cell_type": "code",
   "execution_count": 61,
   "metadata": {},
   "outputs": [],
   "source": [
    "masked_output = tf.reduce_sum(masked_output, axis=1, keepdims=True)"
   ]
  },
  {
   "cell_type": "code",
   "execution_count": 62,
   "metadata": {},
   "outputs": [],
   "source": [
    "movie_categories_fc = layers.Dense(Config.embedding_dim, kernel_initializer='he_normal', name='movie_categories_fc')\n"
   ]
  },
  {
   "cell_type": "code",
   "execution_count": 64,
   "metadata": {},
   "outputs": [],
   "source": [
    "movie_categories = movie_categories_fc(masked_output)"
   ]
  },
  {
   "cell_type": "code",
   "execution_count": 81,
   "metadata": {},
   "outputs": [],
   "source": [
    "movie_id_embedding = keras.Sequential([\n",
    "            layers.Embedding(3953, Config.move_id_embedding_output_dim, input_length=1, name='embedding'),\n",
    "            layers.Dense(Config.embedding_dim, kernel_initializer='he_normal', name='movie_id_fc')\n",
    "        ], name='movie_id_embedding')"
   ]
  },
  {
   "cell_type": "code",
   "execution_count": 84,
   "metadata": {},
   "outputs": [],
   "source": [
    "movie_id = movie_id_embedding(tf.expand_dims(movies['MovieID'].to_list(), axis=1))"
   ]
  },
  {
   "cell_type": "code",
   "execution_count": 85,
   "metadata": {},
   "outputs": [
    {
     "output_type": "execute_result",
     "data": {
      "text/plain": [
       "<tf.Tensor: shape=(3883, 1, 64), dtype=float32, numpy=\n",
       "array([[[ 0.0201471 , -0.09114599,  0.0557896 , ...,  0.05699036,\n",
       "         -0.01148556, -0.0306964 ]],\n",
       "\n",
       "       [[-0.06619983, -0.02614153, -0.04566379, ...,  0.0535129 ,\n",
       "         -0.00429837, -0.08115232]],\n",
       "\n",
       "       [[-0.01030343, -0.00730711, -0.08777495, ...,  0.08364037,\n",
       "          0.0315102 ,  0.00064117]],\n",
       "\n",
       "       ...,\n",
       "\n",
       "       [[ 0.04869591,  0.01327367,  0.01726161, ..., -0.00299545,\n",
       "         -0.02317938,  0.01076081]],\n",
       "\n",
       "       [[ 0.00958184, -0.07442987, -0.03849153, ..., -0.00299545,\n",
       "         -0.02317938,  0.01076081]],\n",
       "\n",
       "       [[ 0.02482926, -0.02498857, -0.00850435, ..., -0.04169276,\n",
       "         -0.07790941,  0.06577192]]], dtype=float32)>"
      ]
     },
     "metadata": {},
     "execution_count": 85
    }
   ],
   "source": [
    "layers.concatenate([movie_id, movie_categories])"
   ]
  },
  {
   "cell_type": "code",
   "execution_count": 106,
   "metadata": {},
   "outputs": [],
   "source": [
    "title = movies['Title'].apply(lambda x: re.sub(r\"[-()\\\"/@;:<>{}`+=~|.,]\", \"\", x).split()).to_list()\n",
    "title = list(set(list(np.hstack(title))))\n",
    "title_map = dict(zip(title, [i + 1 for i in range(len(title))]))\n",
    "title_input = movies['Title'].apply(lambda x: re.sub(r\"[-()\\\"/@;:<>{}`+=~|.,]\", \"\", x).split())\\\n",
    "                .apply(lambda x: [title_map[i] for i in x])"
   ]
  },
  {
   "cell_type": "code",
   "execution_count": 107,
   "metadata": {},
   "outputs": [
    {
     "output_type": "execute_result",
     "data": {
      "text/plain": [
       "4749"
      ]
     },
     "metadata": {},
     "execution_count": 107
    }
   ],
   "source": [
    "len(title)"
   ]
  },
  {
   "cell_type": "code",
   "execution_count": 99,
   "metadata": {},
   "outputs": [],
   "source": [
    "from TextCNN import TextCNN"
   ]
  },
  {
   "cell_type": "code",
   "execution_count": 113,
   "metadata": {},
   "outputs": [],
   "source": [
    "textCNN = TextCNN(15, 4750, 64, 32, 'relu')\n",
    "model = textCNN.get_model()"
   ]
  },
  {
   "cell_type": "code",
   "execution_count": 117,
   "metadata": {},
   "outputs": [],
   "source": [
    "inputs = tf.keras.preprocessing.sequence.pad_sequences(\n",
    "    title_input, padding=\"post\", maxlen=16\n",
    ")"
   ]
  },
  {
   "cell_type": "code",
   "execution_count": 118,
   "metadata": {},
   "outputs": [
    {
     "output_type": "execute_result",
     "data": {
      "text/plain": [
       "<tf.Tensor: shape=(3883, 32), dtype=float32, numpy=\n",
       "array([[0.        , 0.03447237, 0.        , ..., 0.0089156 , 0.        ,\n",
       "        0.        ],\n",
       "       [0.        , 0.        , 0.        , ..., 0.00912313, 0.00057399,\n",
       "        0.00920642],\n",
       "       [0.        , 0.        , 0.00089002, ..., 0.        , 0.        ,\n",
       "        0.        ],\n",
       "       ...,\n",
       "       [0.        , 0.0130721 , 0.        , ..., 0.        , 0.        ,\n",
       "        0.00730382],\n",
       "       [0.        , 0.        , 0.01939505, ..., 0.00673559, 0.        ,\n",
       "        0.        ],\n",
       "       [0.        , 0.00697018, 0.        , ..., 0.01283735, 0.        ,\n",
       "        0.        ]], dtype=float32)>"
      ]
     },
     "metadata": {},
     "execution_count": 118
    }
   ],
   "source": [
    "model(inputs)"
   ]
  },
  {
   "cell_type": "code",
   "execution_count": 119,
   "metadata": {},
   "outputs": [
    {
     "output_type": "execute_result",
     "data": {
      "text/plain": [
       "(3883, 16)"
      ]
     },
     "metadata": {},
     "execution_count": 119
    }
   ],
   "source": [
    "inputs.shape"
   ]
  },
  {
   "cell_type": "code",
   "execution_count": null,
   "metadata": {},
   "outputs": [],
   "source": []
  }
 ],
 "metadata": {
  "kernelspec": {
   "name": "python378jvsc74a57bd0c3eeab4a179eaecfbd0c93cd8027d638ba2f883d06189c59071e8e2f33dc2863",
   "display_name": "Python 3.7.8 64-bit ('ai': conda)"
  },
  "language_info": {
   "codemirror_mode": {
    "name": "ipython",
    "version": 3
   },
   "file_extension": ".py",
   "mimetype": "text/x-python",
   "name": "python",
   "nbconvert_exporter": "python",
   "pygments_lexer": "ipython3",
   "version": "3.7.8-final"
  },
  "toc": {
   "base_numbering": 1,
   "nav_menu": {},
   "number_sections": true,
   "sideBar": true,
   "skip_h1_title": false,
   "title_cell": "Table of Contents",
   "title_sidebar": "Contents",
   "toc_cell": false,
   "toc_position": {},
   "toc_section_display": true,
   "toc_window_display": false
  }
 },
 "nbformat": 4,
 "nbformat_minor": 4
}